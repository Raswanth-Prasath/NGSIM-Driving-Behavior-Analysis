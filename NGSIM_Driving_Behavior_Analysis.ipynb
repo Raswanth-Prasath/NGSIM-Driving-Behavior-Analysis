{
  "cells": [
    {
      "cell_type": "markdown",
      "metadata": {
        "colab_type": "text",
        "id": "view-in-github"
      },
      "source": [
        "<a href=\"https://colab.research.google.com/github/Raswanth-Prasath/NGSIM-Driving-Behavior-Analysis/blob/main/NGSIM_Driving_Behavior_Analysis.ipynb\" target=\"_parent\"><img src=\"https://colab.research.google.com/assets/colab-badge.svg\" alt=\"Open In Colab\"/></a>"
      ]
    },
    {
      "cell_type": "code",
      "execution_count": 2,
      "metadata": {
        "id": "JZeU7DmNMzO3"
      },
      "outputs": [],
      "source": [
        "import pandas as pd\n",
        "import numpy as np\n",
        "import matplotlib.pyplot as plt\n",
        "import seaborn as sns\n",
        "import folium\n",
        "from scipy import stats"
      ]
    },
    {
      "cell_type": "code",
      "execution_count": 4,
      "metadata": {},
      "outputs": [],
      "source": [
        "# Define column names for the data files\n",
        "column_names = ['Vehicle ID', 'Frame ID', 'Lane ID', 'LocalY', 'Mean Speed', 'Mean Acceleration', 'Vehicle length', 'Vehicle Class ID', 'Follower ID', 'Leader ID']  # replace with actual column names\n",
        "moto_column_names = ['Vehicle ID', 'Frame ID', 'Lane ID', 'LocalY', 'Mean Speed', 'Mean Acceleration', 'Vehicle length', 'Vehicle Class ID']  # replace with actual column names\n",
        "\n",
        "# Read DATA.txt (adjust delimiter if needed)\n",
        "data = pd.read_csv(\"D:\\ASU Academics\\Traffic Flow Theroy\\MP-1\\Reconstructed NGSIM I80-1 data\\Data\\DATA (NO MOTORCYCLES).txt\", delimiter=r\"\\s+\", header=None, names=column_names)  # \\s+ for multiple spaces\n",
        "motorcycles = pd.read_csv(\"D:\\ASU Academics\\Traffic Flow Theroy\\MP-1\\Reconstructed NGSIM I80-1 data\\Data\\MOTORCYCLES.txt\", delimiter=r\"\\s+\", header=None, names=moto_column_names)"
      ]
    },
    {
      "cell_type": "code",
      "execution_count": 5,
      "metadata": {},
      "outputs": [],
      "source": [
        "data.to_csv(\"D:\\ASU Academics\\Traffic Flow Theroy\\MP-1\\Reconstructed NGSIM I80-1 data\\Data\\DATA.csv\", index=False)\n",
        "motorcycles.to_csv(\"D:\\ASU Academics\\Traffic Flow Theroy\\MP-1\\Reconstructed NGSIM I80-1 data\\Data\\MOTORCYCLES.csv\", index=False)"
      ]
    },
    {
      "cell_type": "code",
      "execution_count": 24,
      "metadata": {},
      "outputs": [],
      "source": [
        "# Add missing columns to motorcycles (Leader ID, Follower ID)\n",
        "motorcycles[\"Follower ID\"] = -1\n",
        "motorcycles[\"Leader ID\"] = -1\n",
        "\n",
        "# Combine datasets\n",
        "combined = pd.concat([data, motorcycles], ignore_index=True)"
      ]
    },
    {
      "cell_type": "code",
      "execution_count": 23,
      "metadata": {},
      "outputs": [
        {
          "ename": "TypeError",
          "evalue": "'numpy.float64' object cannot be interpreted as an integer",
          "output_type": "error",
          "traceback": [
            "\u001b[1;31m---------------------------------------------------------------------------\u001b[0m",
            "\u001b[1;31mTypeError\u001b[0m                                 Traceback (most recent call last)",
            "Cell \u001b[1;32mIn[23], line 52\u001b[0m\n\u001b[0;32m     49\u001b[0m \u001b[38;5;28;01mif\u001b[39;00m row[\u001b[38;5;124m'\u001b[39m\u001b[38;5;124mLeader ID\u001b[39m\u001b[38;5;124m'\u001b[39m] \u001b[38;5;241m==\u001b[39m \u001b[38;5;241m-\u001b[39m\u001b[38;5;241m1\u001b[39m:\n\u001b[0;32m     50\u001b[0m     \u001b[38;5;28;01mif\u001b[39;00m current_leader \u001b[38;5;129;01mis\u001b[39;00m \u001b[38;5;129;01mnot\u001b[39;00m \u001b[38;5;28;01mNone\u001b[39;00m:\n\u001b[0;32m     51\u001b[0m         \u001b[38;5;66;03m# End of a potential segment\u001b[39;00m\n\u001b[1;32m---> 52\u001b[0m         \u001b[38;5;28;01mif\u001b[39;00m \u001b[43mvalidate_segment\u001b[49m\u001b[43m(\u001b[49m\u001b[43mfollower_data\u001b[49m\u001b[43m,\u001b[49m\u001b[43m \u001b[49m\u001b[43mcurrent_leader\u001b[49m\u001b[43m,\u001b[49m\u001b[43m \u001b[49m\u001b[43mstart_frame\u001b[49m\u001b[43m,\u001b[49m\u001b[43m \u001b[49m\u001b[43mrow\u001b[49m\u001b[43m[\u001b[49m\u001b[38;5;124;43m'\u001b[39;49m\u001b[38;5;124;43mFrame ID\u001b[39;49m\u001b[38;5;124;43m'\u001b[39;49m\u001b[43m]\u001b[49m\u001b[43m \u001b[49m\u001b[38;5;241;43m-\u001b[39;49m\u001b[43m \u001b[49m\u001b[38;5;241;43m1\u001b[39;49m\u001b[43m,\u001b[49m\u001b[43m \u001b[49m\u001b[43mcurrent_lane\u001b[49m\u001b[43m,\u001b[49m\u001b[43m \u001b[49m\u001b[43mcombined\u001b[49m\u001b[43m)\u001b[49m:\n\u001b[0;32m     53\u001b[0m             valid_pairs\u001b[38;5;241m.\u001b[39mappend({\n\u001b[0;32m     54\u001b[0m                 \u001b[38;5;124m'\u001b[39m\u001b[38;5;124mfollower_id\u001b[39m\u001b[38;5;124m'\u001b[39m: follower_id,\n\u001b[0;32m     55\u001b[0m                 \u001b[38;5;124m'\u001b[39m\u001b[38;5;124mleader_id\u001b[39m\u001b[38;5;124m'\u001b[39m: current_leader,\n\u001b[1;32m   (...)\u001b[0m\n\u001b[0;32m     59\u001b[0m                 \u001b[38;5;124m'\u001b[39m\u001b[38;5;124mduration_sec\u001b[39m\u001b[38;5;124m'\u001b[39m: (row[\u001b[38;5;124m'\u001b[39m\u001b[38;5;124mFrame ID\u001b[39m\u001b[38;5;124m'\u001b[39m] \u001b[38;5;241m-\u001b[39m start_frame) \u001b[38;5;241m*\u001b[39m \u001b[38;5;241m0.1\u001b[39m\n\u001b[0;32m     60\u001b[0m             })\n\u001b[0;32m     61\u001b[0m     current_leader \u001b[38;5;241m=\u001b[39m \u001b[38;5;28;01mNone\u001b[39;00m\n",
            "Cell \u001b[1;32mIn[23], line 27\u001b[0m, in \u001b[0;36mvalidate_segment\u001b[1;34m(follower_data, leader_id, start_frame, end_frame, lane_id, combined)\u001b[0m\n\u001b[0;32m     25\u001b[0m \u001b[38;5;66;03m# Check 1: Leader has data for all frames in the segment\u001b[39;00m\n\u001b[0;32m     26\u001b[0m leader_frames \u001b[38;5;241m=\u001b[39m \u001b[38;5;28mset\u001b[39m(leader_data[\u001b[38;5;124m'\u001b[39m\u001b[38;5;124mFrame ID\u001b[39m\u001b[38;5;124m'\u001b[39m]\u001b[38;5;241m.\u001b[39munique())\n\u001b[1;32m---> 27\u001b[0m required_frames \u001b[38;5;241m=\u001b[39m \u001b[38;5;28mset\u001b[39m(\u001b[38;5;28;43mrange\u001b[39;49m\u001b[43m(\u001b[49m\u001b[43mstart_frame\u001b[49m\u001b[43m,\u001b[49m\u001b[43m \u001b[49m\u001b[43mend_frame\u001b[49m\u001b[43m \u001b[49m\u001b[38;5;241;43m+\u001b[39;49m\u001b[43m \u001b[49m\u001b[38;5;241;43m1\u001b[39;49m\u001b[43m)\u001b[49m)\n\u001b[0;32m     29\u001b[0m \u001b[38;5;28;01mif\u001b[39;00m leader_frames \u001b[38;5;241m!=\u001b[39m required_frames:\n\u001b[0;32m     30\u001b[0m     \u001b[38;5;28;01mreturn\u001b[39;00m \u001b[38;5;28;01mFalse\u001b[39;00m\n",
            "\u001b[1;31mTypeError\u001b[0m: 'numpy.float64' object cannot be interpreted as an integer"
          ]
        }
      ],
      "source": [
        "import pandas as pd\n",
        "\n",
        "# Ensure data is sorted by Vehicle ID and Frame ID\n",
        "combined = combined.sort_values(by=['Vehicle ID', 'Frame ID'])\n",
        "\n",
        "# Create a helper function to validate segments\n",
        "def validate_segment(follower_data, leader_id, start_frame, end_frame, lane_id, combined):\n",
        "    \"\"\"\n",
        "    Check if a segment meets all criteria:\n",
        "    - Duration ≥20 seconds (≥200 frames)\n",
        "    - Leader exists for all frames in the segment\n",
        "    - Leader and follower stay in the same lane\n",
        "    \"\"\"\n",
        "    # Calculate duration (0.1 seconds per frame)\n",
        "    num_frames = end_frame - start_frame + 1\n",
        "    if num_frames < 200:\n",
        "        return False\n",
        "    \n",
        "    # Get leader's data for these frames\n",
        "    leader_data = combined[\n",
        "        (combined['Vehicle ID'] == leader_id) &\n",
        "        (combined['Frame ID'].between(start_frame, end_frame))\n",
        "    ]\n",
        "    \n",
        "    # Check 1: Leader has data for all frames in the segment\n",
        "    leader_frames = set(leader_data['Frame ID'].unique())\n",
        "    required_frames = set(range(start_frame, end_frame + 1))\n",
        "    \n",
        "    if leader_frames != required_frames:\n",
        "        return False\n",
        "    \n",
        "    # Check 2: Leader and follower stayed in the same lane\n",
        "    if (leader_data['Lane ID'] != lane_id).any():\n",
        "        return False\n",
        "    \n",
        "    return True\n",
        "\n",
        "# Main analysis\n",
        "valid_pairs = []\n",
        "\n",
        "# Group by follower vehicles\n",
        "for follower_id, follower_data in combined.groupby('Vehicle ID'):\n",
        "    current_leader = None\n",
        "    start_frame = None\n",
        "    current_lane = None\n",
        "    \n",
        "    for _, row in follower_data.iterrows():\n",
        "        # Skip rows with no leader\n",
        "        if row['Leader ID'] == -1:\n",
        "            if current_leader is not None:\n",
        "                # End of a potential segment\n",
        "                if validate_segment(follower_data, current_leader, start_frame, row['Frame ID'] - 1, current_lane, combined):\n",
        "                    valid_pairs.append({\n",
        "                        'follower_id': follower_id,\n",
        "                        'leader_id': current_leader,\n",
        "                        'start_frame': start_frame,\n",
        "                        'end_frame': row['Frame ID'] - 1,\n",
        "                        'lane_id': current_lane,\n",
        "                        'duration_sec': (row['Frame ID'] - start_frame) * 0.1\n",
        "                    })\n",
        "            current_leader = None\n",
        "            start_frame = None\n",
        "            current_lane = None\n",
        "            continue\n",
        "        \n",
        "        # Initialize or continue tracking\n",
        "        if row['Leader ID'] != current_leader or row['Lane ID'] != current_lane:\n",
        "            if current_leader is not None:\n",
        "                # Check previous segment\n",
        "                if validate_segment(follower_data, current_leader, start_frame, row['Frame ID'] - 1, current_lane, combined):\n",
        "                    valid_pairs.append({\n",
        "                        'follower_id': follower_id,\n",
        "                        'leader_id': current_leader,\n",
        "                        'start_frame': start_frame,\n",
        "                        'end_frame': row['Frame ID'] - 1,\n",
        "                        'lane_id': current_lane,\n",
        "                        'duration_sec': (row['Frame ID'] - start_frame) * 0.1\n",
        "                    })\n",
        "            \n",
        "            # Start new segment\n",
        "            current_leader = row['Leader ID']\n",
        "            start_frame = row['Frame ID']\n",
        "            current_lane = row['Lane ID']\n",
        "        else:\n",
        "            # Continue existing segment\n",
        "            pass\n",
        "\n",
        "# Convert results to DataFrame\n",
        "valid_pairs_df = pd.DataFrame(valid_pairs)\n",
        "\n",
        "# Filter duplicates (same pair in overlapping time windows)\n",
        "valid_pairs_df = valid_pairs_df.drop_duplicates(\n",
        "    subset=['follower_id', 'leader_id', 'lane_id'], \n",
        "    keep='first'\n",
        ")\n",
        "\n",
        "# Save results\n",
        "valid_pairs_df.to_csv('valid_car_following_pairs.csv', index=False)\n",
        "print(f\"Found {len(valid_pairs_df)} valid car-following pairs\")"
      ]
    },
    {
      "cell_type": "code",
      "execution_count": null,
      "metadata": {},
      "outputs": [],
      "source": []
    }
  ],
  "metadata": {
    "colab": {
      "authorship_tag": "ABX9TyM0v56CcdsFMwzTHD8CbcyE",
      "include_colab_link": true,
      "provenance": []
    },
    "kernelspec": {
      "display_name": "tdsp",
      "language": "python",
      "name": "python3"
    },
    "language_info": {
      "codemirror_mode": {
        "name": "ipython",
        "version": 3
      },
      "file_extension": ".py",
      "mimetype": "text/x-python",
      "name": "python",
      "nbconvert_exporter": "python",
      "pygments_lexer": "ipython3",
      "version": "3.11.11"
    }
  },
  "nbformat": 4,
  "nbformat_minor": 0
}
